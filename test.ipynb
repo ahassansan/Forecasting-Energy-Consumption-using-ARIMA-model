from pandas import read_csv
from pandas import datetime
from matplotlib import pyplot
import math
 
def parser(x):
	return datetime.strptime( x, '%Y-%m')
 
series = read_csv('loadnew4.csv', header=0, parse_dates=[0], index_col=0, squeeze=True, date_parser=parser)
print(series.head())
series.plot()
pyplot.show()
